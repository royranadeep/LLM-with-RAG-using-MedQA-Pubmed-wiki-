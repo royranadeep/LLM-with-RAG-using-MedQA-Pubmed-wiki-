{
 "cells": [
  {
   "cell_type": "code",
   "execution_count": 1,
   "id": "d9a2274c",
   "metadata": {},
   "outputs": [],
   "source": [
    "import numpy as np # linear algebra\n",
    "import pandas as pd # data processing, CSV file I/O (e.g. pd.read_csv)\n",
    "\n",
    "# Input data files are available in the read-only \"../input/\" directory\n",
    "# For example, running this (by clicking run or pressing Shift+Enter) will list all files under the input directory\n",
    "\n",
    "import os"
   ]
  },
  {
   "cell_type": "code",
   "execution_count": 2,
   "id": "85bb04a5",
   "metadata": {},
   "outputs": [],
   "source": [
    "import json\n",
    "import numpy as np\n",
    "import torch\n",
    "\n",
    "def read_question_answer_file(file_path):\n",
    "    \"\"\"Reads a JSONL file with question-answer data and returns a list of dictionaries.\"\"\"\n",
    "    data = []\n",
    "    with open(file_path, 'r', encoding='utf-8') as file:\n",
    "        for line in file:\n",
    "            data.append(json.loads(line))  # Parse each line as JSON\n",
    "    return data\n",
    "\n",
    "# Load your dataset\n",
    "dataset_path = r'C:\\Users\\ranad\\OneDrive - University of Glasgow\\Attachments\\Msc Final Year project\\Data\\MedQA-USMLE-4-options\\phrases_no_exclude_train.jsonl'  # Replace with the path to your JSON file\n",
    "questions_data = read_question_answer_file(dataset_path)"
   ]
  },
  {
   "cell_type": "code",
   "execution_count": 3,
   "id": "6c74a99d",
   "metadata": {},
   "outputs": [
    {
     "name": "stdout",
     "output_type": "stream",
     "text": [
      "A 23-year-old pregnant woman at 22 weeks gestation presents with burning upon urination. She states it started 1 day ago and has been worsening despite drinking more water and taking cranberry extract. She otherwise feels well and is followed by a doctor for her pregnancy. Her temperature is 97.7°F (36.5°C), blood pressure is 122/77 mmHg, pulse is 80/min, respirations are 19/min, and oxygen saturation is 98% on room air. Physical exam is notable for an absence of costovertebral angle tenderness and a gravid uterus. Which of the following is the best treatment for this patient?\n",
      "D\n",
      "{'A': 'Ampicillin', 'B': 'Ceftriaxone', 'C': 'Doxycycline', 'D': 'Nitrofurantoin'}\n"
     ]
    }
   ],
   "source": [
    "print(questions_data[0]['question'])\n",
    "print(questions_data[0]['answer_idx'])\n",
    "print(questions_data[0]['options'])"
   ]
  },
  {
   "cell_type": "code",
   "execution_count": 6,
   "id": "d5e63997",
   "metadata": {
    "scrolled": true
   },
   "outputs": [],
   "source": [
    "# !pip install wikipedia\n",
    "# !pip install Wikipedia-API"
   ]
  },
  {
   "cell_type": "code",
   "execution_count": 5,
   "id": "9a2b9a88",
   "metadata": {},
   "outputs": [],
   "source": [
    "#Initialization of the wiki and the wiki-API\n",
    "import wikipedia\n",
    "import wikipediaapi\n",
    "\n",
    "result = wikipedia.search('Ampicillin')\n",
    "\n",
    "wiki_api = wikipediaapi.Wikipedia(\n",
    "        user_agent='MedQA Analysis',\n",
    "        language='en',\n",
    "        extract_format=wikipediaapi.ExtractFormat.WIKI\n",
    "        )\n",
    "# wiki_api.page(result[0]).text"
   ]
  },
  {
   "cell_type": "code",
   "execution_count": null,
   "id": "bb6209ce",
   "metadata": {},
   "outputs": [],
   "source": []
  },
  {
   "cell_type": "code",
   "execution_count": null,
   "id": "3e5392e2",
   "metadata": {},
   "outputs": [],
   "source": []
  }
 ],
 "metadata": {
  "kernelspec": {
   "display_name": "Python 3 (ipykernel)",
   "language": "python",
   "name": "python3"
  },
  "language_info": {
   "codemirror_mode": {
    "name": "ipython",
    "version": 3
   },
   "file_extension": ".py",
   "mimetype": "text/x-python",
   "name": "python",
   "nbconvert_exporter": "python",
   "pygments_lexer": "ipython3",
   "version": "3.11.5"
  }
 },
 "nbformat": 4,
 "nbformat_minor": 5
}
