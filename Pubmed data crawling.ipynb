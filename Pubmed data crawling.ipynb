{
 "cells": [
  {
   "cell_type": "code",
   "execution_count": 9,
   "id": "37fea9de",
   "metadata": {},
   "outputs": [],
   "source": [
    "import numpy as np # linear algebra\n",
    "import pandas as pd # data processing, CSV file I/O (e.g. pd.read_csv)\n",
    "\n",
    "# Input data files are available in the read-only \"../input/\" directory\n",
    "# For example, running this (by clicking run or pressing Shift+Enter) will list all files under the input directory\n",
    "\n",
    "import os"
   ]
  },
  {
   "cell_type": "code",
   "execution_count": 1,
   "id": "a15d3e1c",
   "metadata": {},
   "outputs": [
    {
     "name": "stdout",
     "output_type": "stream",
     "text": [
      "A 23-year-old pregnant woman at 22 weeks gestation presents with burning upon urination. She states it started 1 day ago and has been worsening despite drinking more water and taking cranberry extract. She otherwise feels well and is followed by a doctor for her pregnancy. Her temperature is 97.7°F (36.5°C), blood pressure is 122/77 mmHg, pulse is 80/min, respirations are 19/min, and oxygen saturation is 98% on room air. Physical exam is notable for an absence of costovertebral angle tenderness and a gravid uterus. Which of the following is the best treatment for this patient?\n",
      "D\n",
      "{'A': 'Ampicillin', 'B': 'Ceftriaxone', 'C': 'Doxycycline', 'D': 'Nitrofurantoin'}\n"
     ]
    }
   ],
   "source": [
    "import json\n",
    "import numpy as np\n",
    "import torch\n",
    "\n",
    "def read_question_answer_file(file_path):\n",
    "    \"\"\"Reads a JSONL file with question-answer data and returns a list of dictionaries.\"\"\"\n",
    "    data = []\n",
    "    with open(file_path, 'r', encoding='utf-8') as file:\n",
    "        for line in file:\n",
    "            data.append(json.loads(line))  # Parse each line as JSON\n",
    "    return data\n",
    "\n",
    "# Load your dataset\n",
    "\n",
    "dataset_path = 'med_data/phrases_no_exclude_train.jsonl'  # Replace with the path to your JSON file\n",
    "questions_data = read_question_answer_file(dataset_path)\n",
    "\n",
    "print(questions_data[0]['question'])\n",
    "print(questions_data[0]['answer_idx'])\n",
    "print(questions_data[0]['options'])"
   ]
  },
  {
   "cell_type": "code",
   "execution_count": 10,
   "id": "89fe14f4",
   "metadata": {},
   "outputs": [],
   "source": [
    "import re\n",
    "\n",
    "def clean_text(text):\n",
    "  \"\"\"Removes special characters and extra whitespace from text.\n",
    "\n",
    "  Args:\n",
    "    text: The input text to be cleaned.\n",
    "\n",
    "  Returns:\n",
    "    The cleaned text.\n",
    "  \"\"\"\n",
    "  special_chars = r\"[\\u03b2\\u00b5\\u03b4\\u03c5\\u03bb\\u0394\\u00f6]\"\n",
    "  # Remove special characters using regular expression\n",
    "  text = re.sub(r\"[^\\w\\s]\", \"\", text)\n",
    "\n",
    "  # Remove extra whitespace\n",
    "  text = \" \".join(text.split())\n",
    "\n",
    "  return text"
   ]
  },
  {
   "cell_type": "code",
   "execution_count": 11,
   "id": "5f2be482",
   "metadata": {},
   "outputs": [],
   "source": [
    "def save_string_to_file(data, filename):\n",
    "  \"\"\"Saves a string to a text file.\n",
    "\n",
    "  Args:\n",
    "    text: The string to be saved.\n",
    "    filename: The name of the file to create.\n",
    "  \"\"\"\n",
    "\n",
    "  with open(filename, 'w', encoding='utf-8') as f:\n",
    "    json.dump(data, f, indent=4)\n",
    "\n",
    "# # Example usage:\n",
    "# my_string = \"This is the text I want to save.\"\n",
    "# save_string_to_file(my_string, \"output.txt\")"
   ]
  },
  {
   "cell_type": "code",
   "execution_count": 12,
   "id": "78032c76",
   "metadata": {},
   "outputs": [],
   "source": [
    "def sanitize_filename(filename):\n",
    "  \"\"\"Sanitizes a filename by replacing special characters with underscores.\n",
    "\n",
    "  Args:\n",
    "    filename: The original filename.\n",
    "\n",
    "  Returns:\n",
    "    The sanitized filename.\n",
    "  \"\"\"\n",
    "\n",
    "  # Replace non-alphanumeric characters with underscores\n",
    "  filename = re.sub(r'[^\\w]', '_', filename)\n",
    "\n",
    "  # Remove leading and trailing underscores\n",
    "  filename = filename.strip('_')\n",
    "\n",
    "  return filename"
   ]
  },
  {
   "cell_type": "code",
   "execution_count": 13,
   "id": "2c7b14e2-7aa0-4f87-b52d-ae6eaa489db9",
   "metadata": {
    "scrolled": true
   },
   "outputs": [
    {
     "name": "stdout",
     "output_type": "stream",
     "text": [
      "Collecting metapub\n",
      "  Downloading metapub-0.5.12-py2.py3-none-any.whl.metadata (16 kB)\n",
      "Requirement already satisfied: setuptools in /opt/miniconda3/lib/python3.10/site-packages (from metapub) (68.2.2)\n",
      "Requirement already satisfied: lxml in /opt/miniconda3/lib/python3.10/site-packages (from metapub) (5.1.0)\n",
      "Collecting lxml-html-clean (from metapub)\n",
      "  Downloading lxml_html_clean-0.2.0-py3-none-any.whl.metadata (1.8 kB)\n",
      "Requirement already satisfied: requests in /opt/miniconda3/lib/python3.10/site-packages (from metapub) (2.31.0)\n",
      "Collecting eutils (from metapub)\n",
      "  Downloading eutils-0.6.0-py2.py3-none-any.whl.metadata (7.0 kB)\n",
      "Collecting habanero (from metapub)\n",
      "  Downloading habanero-1.2.6-py2.py3-none-any.whl.metadata (14 kB)\n",
      "Collecting tabulate (from metapub)\n",
      "  Downloading tabulate-0.9.0-py3-none-any.whl.metadata (34 kB)\n",
      "Collecting cssselect (from metapub)\n",
      "  Downloading cssselect-1.2.0-py2.py3-none-any.whl.metadata (2.2 kB)\n",
      "Collecting unidecode (from metapub)\n",
      "  Downloading Unidecode-1.3.8-py3-none-any.whl.metadata (13 kB)\n",
      "Collecting docopt (from metapub)\n",
      "  Downloading docopt-0.6.2.tar.gz (25 kB)\n",
      "  Preparing metadata (setup.py) ... \u001b[?25ldone\n",
      "\u001b[?25hRequirement already satisfied: six in /opt/miniconda3/lib/python3.10/site-packages (from metapub) (1.16.0)\n",
      "Collecting coloredlogs (from metapub)\n",
      "  Downloading coloredlogs-15.0.1-py2.py3-none-any.whl.metadata (12 kB)\n",
      "Collecting python-Levenshtein (from metapub)\n",
      "  Downloading python_Levenshtein-0.25.1-py3-none-any.whl.metadata (3.7 kB)\n",
      "Collecting humanfriendly>=9.1 (from coloredlogs->metapub)\n",
      "  Downloading humanfriendly-10.0-py2.py3-none-any.whl.metadata (9.2 kB)\n",
      "Requirement already satisfied: pytz in /opt/miniconda3/lib/python3.10/site-packages (from eutils->metapub) (2023.3.post1)\n",
      "Requirement already satisfied: tqdm in /opt/miniconda3/lib/python3.10/site-packages (from habanero->metapub) (4.65.0)\n",
      "Requirement already satisfied: charset-normalizer<4,>=2 in /opt/miniconda3/lib/python3.10/site-packages (from requests->metapub) (2.0.4)\n",
      "Requirement already satisfied: idna<4,>=2.5 in /opt/miniconda3/lib/python3.10/site-packages (from requests->metapub) (3.4)\n",
      "Requirement already satisfied: urllib3<3,>=1.21.1 in /opt/miniconda3/lib/python3.10/site-packages (from requests->metapub) (1.26.18)\n",
      "Requirement already satisfied: certifi>=2017.4.17 in /opt/miniconda3/lib/python3.10/site-packages (from requests->metapub) (2023.11.17)\n",
      "Collecting Levenshtein==0.25.1 (from python-Levenshtein->metapub)\n",
      "  Downloading Levenshtein-0.25.1-cp310-cp310-manylinux_2_17_x86_64.manylinux2014_x86_64.whl.metadata (3.3 kB)\n",
      "Collecting rapidfuzz<4.0.0,>=3.8.0 (from Levenshtein==0.25.1->python-Levenshtein->metapub)\n",
      "  Downloading rapidfuzz-3.9.6-cp310-cp310-manylinux_2_17_x86_64.manylinux2014_x86_64.whl.metadata (12 kB)\n",
      "Downloading metapub-0.5.12-py2.py3-none-any.whl (147 kB)\n",
      "\u001b[2K   \u001b[90m━━━━━━━━━━━━━━━━━━━━━━━━━━━━━━━━━━━━━━━━\u001b[0m \u001b[32m147.4/147.4 kB\u001b[0m \u001b[31m5.4 MB/s\u001b[0m eta \u001b[36m0:00:00\u001b[0m\n",
      "\u001b[?25hDownloading coloredlogs-15.0.1-py2.py3-none-any.whl (46 kB)\n",
      "\u001b[2K   \u001b[90m━━━━━━━━━━━━━━━━━━━━━━━━━━━━━━━━━━━━━━━━\u001b[0m \u001b[32m46.0/46.0 kB\u001b[0m \u001b[31m4.4 MB/s\u001b[0m eta \u001b[36m0:00:00\u001b[0m\n",
      "\u001b[?25hDownloading cssselect-1.2.0-py2.py3-none-any.whl (18 kB)\n",
      "Downloading eutils-0.6.0-py2.py3-none-any.whl (41 kB)\n",
      "\u001b[2K   \u001b[90m━━━━━━━━━━━━━━━━━━━━━━━━━━━━━━━━━━━━━━━━\u001b[0m \u001b[32m41.9/41.9 kB\u001b[0m \u001b[31m3.9 MB/s\u001b[0m eta \u001b[36m0:00:00\u001b[0m\n",
      "\u001b[?25hDownloading habanero-1.2.6-py2.py3-none-any.whl (30 kB)\n",
      "Downloading lxml_html_clean-0.2.0-py3-none-any.whl (13 kB)\n",
      "Downloading python_Levenshtein-0.25.1-py3-none-any.whl (9.4 kB)\n",
      "Downloading Levenshtein-0.25.1-cp310-cp310-manylinux_2_17_x86_64.manylinux2014_x86_64.whl (177 kB)\n",
      "\u001b[2K   \u001b[90m━━━━━━━━━━━━━━━━━━━━━━━━━━━━━━━━━━━━━━━━\u001b[0m \u001b[32m177.4/177.4 kB\u001b[0m \u001b[31m15.2 MB/s\u001b[0m eta \u001b[36m0:00:00\u001b[0m\n",
      "\u001b[?25hDownloading tabulate-0.9.0-py3-none-any.whl (35 kB)\n",
      "Downloading Unidecode-1.3.8-py3-none-any.whl (235 kB)\n",
      "\u001b[2K   \u001b[90m━━━━━━━━━━━━━━━━━━━━━━━━━━━━━━━━━━━━━━━━\u001b[0m \u001b[32m235.5/235.5 kB\u001b[0m \u001b[31m21.8 MB/s\u001b[0m eta \u001b[36m0:00:00\u001b[0m\n",
      "\u001b[?25hDownloading humanfriendly-10.0-py2.py3-none-any.whl (86 kB)\n",
      "\u001b[2K   \u001b[90m━━━━━━━━━━━━━━━━━━━━━━━━━━━━━━━━━━━━━━━━\u001b[0m \u001b[32m86.8/86.8 kB\u001b[0m \u001b[31m8.2 MB/s\u001b[0m eta \u001b[36m0:00:00\u001b[0m\n",
      "\u001b[?25hDownloading rapidfuzz-3.9.6-cp310-cp310-manylinux_2_17_x86_64.manylinux2014_x86_64.whl (3.4 MB)\n",
      "\u001b[2K   \u001b[90m━━━━━━━━━━━━━━━━━━━━━━━━━━━━━━━━━━━━━━━━\u001b[0m \u001b[32m3.4/3.4 MB\u001b[0m \u001b[31m41.2 MB/s\u001b[0m eta \u001b[36m0:00:00\u001b[0m00:01\u001b[0m00:01\u001b[0m\n",
      "\u001b[?25hBuilding wheels for collected packages: docopt\n",
      "  Building wheel for docopt (setup.py) ... \u001b[?25ldone\n",
      "\u001b[?25h  Created wheel for docopt: filename=docopt-0.6.2-py2.py3-none-any.whl size=13705 sha256=111894d8e7c69569df7c52c732b1a9fa24290e07642ea55815eb9e43fe67d538\n",
      "  Stored in directory: /root/.cache/pip/wheels/fc/ab/d4/5da2067ac95b36618c629a5f93f809425700506f72c9732fac\n",
      "Successfully built docopt\n",
      "Installing collected packages: docopt, unidecode, tabulate, rapidfuzz, lxml-html-clean, humanfriendly, cssselect, Levenshtein, habanero, eutils, coloredlogs, python-Levenshtein, metapub\n",
      "Successfully installed Levenshtein-0.25.1 coloredlogs-15.0.1 cssselect-1.2.0 docopt-0.6.2 eutils-0.6.0 habanero-1.2.6 humanfriendly-10.0 lxml-html-clean-0.2.0 metapub-0.5.12 python-Levenshtein-0.25.1 rapidfuzz-3.9.6 tabulate-0.9.0 unidecode-1.3.8\n",
      "\u001b[33mWARNING: Running pip as the 'root' user can result in broken permissions and conflicting behaviour with the system package manager. It is recommended to use a virtual environment instead: https://pip.pypa.io/warnings/venv\u001b[0m\u001b[33m\n",
      "\u001b[0m"
     ]
    }
   ],
   "source": [
    "!pip install metapub"
   ]
  },
  {
   "cell_type": "code",
   "execution_count": 14,
   "id": "0127c70b",
   "metadata": {},
   "outputs": [
    {
     "name": "stderr",
     "output_type": "stream",
     "text": [
      "2024-08-10 09:42:57 grumpy-chicken-36 metapub.config[141] WARNING NCBI_API_KEY was not set.\n"
     ]
    }
   ],
   "source": [
    "from metapub import PubMedFetcher\n",
    "import time\n",
    "\n",
    "access_key_id = \"18acd1db794f7de35c1c83811bc106c6a509\"\n",
    "\n",
    "def fetch_and_process_data(keyword, api_key):\n",
    "    \"\"\"Fetches PubMed articles and returns a dictionary of PMIDs and abstracts.\n",
    "\n",
    "    Args:\n",
    "        keyword: The search keyword.\n",
    "        api_key: The NCBI API key.\n",
    "\n",
    "    Returns:\n",
    "        A dictionary containing PMIDs as keys and abstracts as values.\n",
    "    \"\"\"\n",
    "\n",
    "    fetch = PubMedFetcher(api_key=api_key)\n",
    "    pmids = fetch.pmids_for_query(keyword, retmax=10)\n",
    "\n",
    "    abstracts = {}\n",
    "    for pmid in pmids:\n",
    "        article = fetch.article_by_pmid(pmid)\n",
    "        abstracts[pmid] = article.abstract\n",
    "        time.sleep(0.2)\n",
    "    return abstracts\n",
    "\n",
    "# Example usage:\n",
    "# keyword = \"Ceftriaxone\"\n",
    "# abstracts_dict = fetch_and_process_data(keyword, access_key_id)\n",
    "# print(abstracts_dict)"
   ]
  },
  {
   "cell_type": "code",
   "execution_count": 15,
   "id": "7c4ba611",
   "metadata": {
    "scrolled": true
   },
   "outputs": [
    {
     "name": "stderr",
     "output_type": "stream",
     "text": [
      "100%|██████████| 213/213 [2:04:25<00:00, 35.05s/it]  \n"
     ]
    }
   ],
   "source": [
    "from tqdm import tqdm\n",
    "\n",
    "questionLoader = questions_data[787:1000]\n",
    "for question in  tqdm(questionLoader):\n",
    "    options = question['options']\n",
    "    for key, value in options.items():\n",
    "        query = value\n",
    "        bioc_data = []\n",
    "        abstracts_dict = fetch_and_process_data(query,access_key_id)\n",
    "        save_string_to_file(abstracts_dict, \"Pubmed _Abstract/\" + sanitize_filename(query) + \".json\")"
   ]
  },
  {
   "cell_type": "code",
   "execution_count": 7,
   "id": "bdeb59b1-a125-4659-993b-6ba56e163214",
   "metadata": {},
   "outputs": [
    {
     "data": {
      "text/plain": [
       "{'question': 'A 41-year-old G3P3 woman presents with acute on chronic right upper quadrant abdominal pain. She says that her current symptoms acutely onset 8 hours ago after eating a large meal and have not improved. She describes the pain as severe, sharp and cramping in character, and localized to the right upper quadrant. She also describes feeling nauseous. The patient says she has had similar less severe episodes intermittently for the past 2 years, usually precipitated by the intake of fatty foods. She denies any history of fever or jaundice. Vital signs are stable. Physical examination is unremarkable, and laboratory findings show normal liver function tests and normal serum bilirubin and serum amylase levels. Ultrasonography of the abdomen reveals multiple stones in the gallbladder. The patient is managed symptomatically for this episode, and after a few months, undergoes elective cholecystectomy, which reveals multiple stones in her gallbladder as shown in the figure (see image). Which of the following best describes these gallstones?',\n",
       " 'answer': 'They are formed due to bile supersaturated with cholesterol.',\n",
       " 'options': {'A': 'They are formed due to elevated uric acid in the blood.',\n",
       "  'B': 'They are formed due to the release of beta-glucuronidase from infecting bacteria.',\n",
       "  'C': 'These are usually radiopaque on X-ray imaging.',\n",
       "  'D': 'They are formed due to bile supersaturated with cholesterol.'},\n",
       " 'meta_info': 'step1',\n",
       " 'answer_idx': 'D',\n",
       " 'metamap_phrases': ['year old',\n",
       "  'woman presents',\n",
       "  'acute on chronic right upper quadrant abdominal pain',\n",
       "  'current symptoms',\n",
       "  'onset 8 hours',\n",
       "  'eating',\n",
       "  'large meal',\n",
       "  'not improved',\n",
       "  'pain',\n",
       "  'severe',\n",
       "  'sharp',\n",
       "  'cramping',\n",
       "  'character',\n",
       "  'localized',\n",
       "  'right upper quadrant',\n",
       "  'feeling nauseous',\n",
       "  'patient',\n",
       "  'similar',\n",
       "  'severe episodes',\n",
       "  'past',\n",
       "  'years',\n",
       "  'usually precipitated',\n",
       "  'intake',\n",
       "  'fatty foods',\n",
       "  'denies',\n",
       "  'history',\n",
       "  'fever',\n",
       "  'jaundice',\n",
       "  'Vital signs',\n",
       "  'stable',\n",
       "  'Physical examination',\n",
       "  'unremarkable',\n",
       "  'laboratory findings show normal liver function tests',\n",
       "  'normal serum',\n",
       "  'serum amylase levels',\n",
       "  'Ultrasonography of',\n",
       "  'abdomen reveals multiple stones',\n",
       "  'gallbladder',\n",
       "  'patient',\n",
       "  'managed',\n",
       "  'episode',\n",
       "  'few months',\n",
       "  'elective cholecystectomy',\n",
       "  'reveals multiple stones',\n",
       "  'gallbladder',\n",
       "  'shown',\n",
       "  'see image',\n",
       "  'following best',\n",
       "  'gallstones']}"
      ]
     },
     "execution_count": 7,
     "metadata": {},
     "output_type": "execute_result"
    }
   ],
   "source": [
    "questionLoader = questions_data[800:1000]\n",
    "questionLoader[0]"
   ]
  },
  {
   "cell_type": "code",
   "execution_count": null,
   "id": "5af7818c-453a-4e28-8090-05669b2f3e53",
   "metadata": {},
   "outputs": [],
   "source": []
  }
 ],
 "metadata": {
  "kernelspec": {
   "display_name": "Python 3 (ipykernel)",
   "language": "python",
   "name": "python3"
  },
  "language_info": {
   "codemirror_mode": {
    "name": "ipython",
    "version": 3
   },
   "file_extension": ".py",
   "mimetype": "text/x-python",
   "name": "python",
   "nbconvert_exporter": "python",
   "pygments_lexer": "ipython3",
   "version": "3.10.13"
  }
 },
 "nbformat": 4,
 "nbformat_minor": 5
}
