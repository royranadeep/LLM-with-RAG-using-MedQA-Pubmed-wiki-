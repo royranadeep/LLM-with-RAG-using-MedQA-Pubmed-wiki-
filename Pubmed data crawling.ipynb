{
 "cells": [
  {
   "cell_type": "code",
   "execution_count": 1,
   "id": "37fea9de",
   "metadata": {},
   "outputs": [],
   "source": [
    "import numpy as np # linear algebra\n",
    "import pandas as pd # data processing, CSV file I/O (e.g. pd.read_csv)\n",
    "\n",
    "# Input data files are available in the read-only \"../input/\" directory\n",
    "# For example, running this (by clicking run or pressing Shift+Enter) will list all files under the input directory\n",
    "\n",
    "import os"
   ]
  },
  {
   "cell_type": "code",
   "execution_count": 2,
   "id": "8cc6bc91",
   "metadata": {},
   "outputs": [],
   "source": [
    "import json\n",
    "import numpy as np\n",
    "import torch\n",
    "\n",
    "def read_question_answer_file(file_path):\n",
    "    \"\"\"Reads a JSONL file with question-answer data and returns a list of dictionaries.\"\"\"\n",
    "    data = []\n",
    "    with open(file_path, 'r', encoding='utf-8') as file:\n",
    "        for line in file:\n",
    "            data.append(json.loads(line))  # Parse each line as JSON\n",
    "    return data\n",
    "\n",
    "# Load your dataset\n",
    "dataset_path = r'C:\\Users\\ranad\\OneDrive - University of Glasgow\\Attachments\\Msc Final Year project\\Data\\MedQA-USMLE-4-options\\phrases_no_exclude_train.jsonl'  # Replace with the path to your JSON file\n",
    "questions_data = read_question_answer_file(dataset_path)"
   ]
  },
  {
   "cell_type": "code",
   "execution_count": 3,
   "id": "668ff0ac",
   "metadata": {},
   "outputs": [
    {
     "name": "stdout",
     "output_type": "stream",
     "text": [
      "A 23-year-old pregnant woman at 22 weeks gestation presents with burning upon urination. She states it started 1 day ago and has been worsening despite drinking more water and taking cranberry extract. She otherwise feels well and is followed by a doctor for her pregnancy. Her temperature is 97.7°F (36.5°C), blood pressure is 122/77 mmHg, pulse is 80/min, respirations are 19/min, and oxygen saturation is 98% on room air. Physical exam is notable for an absence of costovertebral angle tenderness and a gravid uterus. Which of the following is the best treatment for this patient?\n",
      "D\n",
      "{'A': 'Ampicillin', 'B': 'Ceftriaxone', 'C': 'Doxycycline', 'D': 'Nitrofurantoin'}\n"
     ]
    }
   ],
   "source": [
    "print(questions_data[0]['question'])\n",
    "print(questions_data[0]['answer_idx'])\n",
    "print(questions_data[0]['options'])"
   ]
  },
  {
   "cell_type": "code",
   "execution_count": 41,
   "id": "c87f3fd7",
   "metadata": {},
   "outputs": [],
   "source": [
    "import re\n",
    "\n",
    "def clean_text(text):\n",
    "  \"\"\"Removes special characters and extra whitespace from text.\n",
    "\n",
    "  Args:\n",
    "    text: The input text to be cleaned.\n",
    "\n",
    "  Returns:\n",
    "    The cleaned text.\n",
    "  \"\"\"\n",
    "  special_chars = r\"[\\u03b2\\u00b5\\u03b4\\u03c5\\u03bb\\u0394\\u00f6]\"\n",
    "  # Remove special characters using regular expression\n",
    "  text = re.sub(r\"[^\\w\\s]\", \"\", text)\n",
    "\n",
    "  # Remove extra whitespace\n",
    "  text = \" \".join(text.split())\n",
    "\n",
    "  return text"
   ]
  },
  {
   "cell_type": "code",
   "execution_count": 36,
   "id": "1ca7ad6c",
   "metadata": {},
   "outputs": [],
   "source": [
    "def save_string_to_file(data, filename):\n",
    "  \"\"\"Saves a string to a text file.\n",
    "\n",
    "  Args:\n",
    "    text: The string to be saved.\n",
    "    filename: The name of the file to create.\n",
    "  \"\"\"\n",
    "\n",
    "  with open(filename, 'w', encoding='utf-8') as f:\n",
    "    json.dump(data, f, indent=4)\n",
    "\n",
    "# # Example usage:\n",
    "# my_string = \"This is the text I want to save.\"\n",
    "# save_string_to_file(my_string, \"output.txt\")"
   ]
  },
  {
   "cell_type": "code",
   "execution_count": 34,
   "id": "ab3d6ec0",
   "metadata": {},
   "outputs": [],
   "source": [
    "def sanitize_filename(filename):\n",
    "  \"\"\"Sanitizes a filename by replacing special characters with underscores.\n",
    "\n",
    "  Args:\n",
    "    filename: The original filename.\n",
    "\n",
    "  Returns:\n",
    "    The sanitized filename.\n",
    "  \"\"\"\n",
    "\n",
    "  # Replace non-alphanumeric characters with underscores\n",
    "  filename = re.sub(r'[^\\w]', '_', filename)\n",
    "\n",
    "  # Remove leading and trailing underscores\n",
    "  filename = filename.strip('_')\n",
    "\n",
    "  return filename"
   ]
  },
  {
   "cell_type": "code",
   "execution_count": 39,
   "id": "70861dbd",
   "metadata": {},
   "outputs": [],
   "source": [
    "from metapub import PubMedFetcher\n",
    "import time\n",
    "\n",
    "access_key_id = \"18acd1db794f7de35c1c83811bc106c6a509\"\n",
    "\n",
    "def fetch_and_process_data(keyword, api_key):\n",
    "    \"\"\"Fetches PubMed articles and returns a dictionary of PMIDs and abstracts.\n",
    "\n",
    "    Args:\n",
    "        keyword: The search keyword.\n",
    "        api_key: The NCBI API key.\n",
    "\n",
    "    Returns:\n",
    "        A dictionary containing PMIDs as keys and abstracts as values.\n",
    "    \"\"\"\n",
    "\n",
    "    fetch = PubMedFetcher(api_key=api_key)\n",
    "    pmids = fetch.pmids_for_query(keyword, retmax=10)\n",
    "\n",
    "    abstracts = {}\n",
    "    for pmid in pmids:\n",
    "        article = fetch.article_by_pmid(pmid)\n",
    "        abstracts[pmid] = clean_text(article.abstract)\n",
    "        time.sleep(0.2)\n",
    "    return abstracts\n",
    "\n",
    "# Example usage:\n",
    "# keyword = \"Ceftriaxone\"\n",
    "# abstracts_dict = fetch_and_process_data(keyword, access_key_id)\n",
    "# print(abstracts_dict)"
   ]
  },
  {
   "cell_type": "code",
   "execution_count": 29,
   "id": "57c25e11",
   "metadata": {},
   "outputs": [
    {
     "data": {
      "text/plain": [
       "20"
      ]
     },
     "execution_count": 29,
     "metadata": {},
     "output_type": "execute_result"
    }
   ],
   "source": [
    "len(abstracts_dict)"
   ]
  },
  {
   "cell_type": "code",
   "execution_count": 43,
   "id": "b7a5c4e3",
   "metadata": {},
   "outputs": [
    {
     "name": "stderr",
     "output_type": "stream",
     "text": [
      "  0%|▌                                                                                                                   | 1/215 [01:28<5:14:17, 88.12s/it]\n"
     ]
    },
    {
     "ename": "TypeError",
     "evalue": "expected string or bytes-like object, got 'NoneType'",
     "output_type": "error",
     "traceback": [
      "\u001b[1;31m---------------------------------------------------------------------------\u001b[0m",
      "\u001b[1;31mTypeError\u001b[0m                                 Traceback (most recent call last)",
      "Cell \u001b[1;32mIn[43], line 9\u001b[0m\n\u001b[0;32m      7\u001b[0m query \u001b[38;5;241m=\u001b[39m value\n\u001b[0;32m      8\u001b[0m bioc_data \u001b[38;5;241m=\u001b[39m []\n\u001b[1;32m----> 9\u001b[0m abstracts_dict \u001b[38;5;241m=\u001b[39m fetch_and_process_data(query,access_key_id)\n\u001b[0;32m     10\u001b[0m save_string_to_file(abstracts_dict, \u001b[38;5;124m\"\u001b[39m\u001b[38;5;124mC:/Users/ranad/Documents/Pubmed_Abstract/\u001b[39m\u001b[38;5;124m\"\u001b[39m \u001b[38;5;241m+\u001b[39m sanitize_filename(query) \u001b[38;5;241m+\u001b[39m \u001b[38;5;124m\"\u001b[39m\u001b[38;5;124m.json\u001b[39m\u001b[38;5;124m\"\u001b[39m)\n",
      "Cell \u001b[1;32mIn[39], line 23\u001b[0m, in \u001b[0;36mfetch_and_process_data\u001b[1;34m(keyword, api_key)\u001b[0m\n\u001b[0;32m     21\u001b[0m \u001b[38;5;28;01mfor\u001b[39;00m pmid \u001b[38;5;129;01min\u001b[39;00m pmids:\n\u001b[0;32m     22\u001b[0m     article \u001b[38;5;241m=\u001b[39m fetch\u001b[38;5;241m.\u001b[39marticle_by_pmid(pmid)\n\u001b[1;32m---> 23\u001b[0m     abstracts[pmid] \u001b[38;5;241m=\u001b[39m clean_text(article\u001b[38;5;241m.\u001b[39mabstract)\n\u001b[0;32m     24\u001b[0m     time\u001b[38;5;241m.\u001b[39msleep(\u001b[38;5;241m0.2\u001b[39m)\n\u001b[0;32m     25\u001b[0m \u001b[38;5;28;01mreturn\u001b[39;00m abstracts\n",
      "Cell \u001b[1;32mIn[41], line 14\u001b[0m, in \u001b[0;36mclean_text\u001b[1;34m(text)\u001b[0m\n\u001b[0;32m     12\u001b[0m special_chars \u001b[38;5;241m=\u001b[39m \u001b[38;5;124mr\u001b[39m\u001b[38;5;124m\"\u001b[39m\u001b[38;5;124m[\u001b[39m\u001b[38;5;124m\\\u001b[39m\u001b[38;5;124mu03b2\u001b[39m\u001b[38;5;124m\\\u001b[39m\u001b[38;5;124mu00b5\u001b[39m\u001b[38;5;124m\\\u001b[39m\u001b[38;5;124mu03b4\u001b[39m\u001b[38;5;124m\\\u001b[39m\u001b[38;5;124mu03c5\u001b[39m\u001b[38;5;124m\\\u001b[39m\u001b[38;5;124mu03bb\u001b[39m\u001b[38;5;124m\\\u001b[39m\u001b[38;5;124mu0394\u001b[39m\u001b[38;5;124m\\\u001b[39m\u001b[38;5;124mu00f6]\u001b[39m\u001b[38;5;124m\"\u001b[39m\n\u001b[0;32m     13\u001b[0m \u001b[38;5;66;03m# Remove special characters using regular expression\u001b[39;00m\n\u001b[1;32m---> 14\u001b[0m text \u001b[38;5;241m=\u001b[39m re\u001b[38;5;241m.\u001b[39msub(\u001b[38;5;124mr\u001b[39m\u001b[38;5;124m\"\u001b[39m\u001b[38;5;124m[^\u001b[39m\u001b[38;5;124m\\\u001b[39m\u001b[38;5;124mw\u001b[39m\u001b[38;5;124m\\\u001b[39m\u001b[38;5;124ms]\u001b[39m\u001b[38;5;124m\"\u001b[39m, \u001b[38;5;124m\"\u001b[39m\u001b[38;5;124m\"\u001b[39m, text)\n\u001b[0;32m     16\u001b[0m \u001b[38;5;66;03m# Remove extra whitespace\u001b[39;00m\n\u001b[0;32m     17\u001b[0m text \u001b[38;5;241m=\u001b[39m \u001b[38;5;124m\"\u001b[39m\u001b[38;5;124m \u001b[39m\u001b[38;5;124m\"\u001b[39m\u001b[38;5;241m.\u001b[39mjoin(text\u001b[38;5;241m.\u001b[39msplit())\n",
      "File \u001b[1;32m~\\anaconda3\\Lib\\re\\__init__.py:185\u001b[0m, in \u001b[0;36msub\u001b[1;34m(pattern, repl, string, count, flags)\u001b[0m\n\u001b[0;32m    178\u001b[0m \u001b[38;5;28;01mdef\u001b[39;00m \u001b[38;5;21msub\u001b[39m(pattern, repl, string, count\u001b[38;5;241m=\u001b[39m\u001b[38;5;241m0\u001b[39m, flags\u001b[38;5;241m=\u001b[39m\u001b[38;5;241m0\u001b[39m):\n\u001b[0;32m    179\u001b[0m \u001b[38;5;250m    \u001b[39m\u001b[38;5;124;03m\"\"\"Return the string obtained by replacing the leftmost\u001b[39;00m\n\u001b[0;32m    180\u001b[0m \u001b[38;5;124;03m    non-overlapping occurrences of the pattern in string by the\u001b[39;00m\n\u001b[0;32m    181\u001b[0m \u001b[38;5;124;03m    replacement repl.  repl can be either a string or a callable;\u001b[39;00m\n\u001b[0;32m    182\u001b[0m \u001b[38;5;124;03m    if a string, backslash escapes in it are processed.  If it is\u001b[39;00m\n\u001b[0;32m    183\u001b[0m \u001b[38;5;124;03m    a callable, it's passed the Match object and must return\u001b[39;00m\n\u001b[0;32m    184\u001b[0m \u001b[38;5;124;03m    a replacement string to be used.\"\"\"\u001b[39;00m\n\u001b[1;32m--> 185\u001b[0m     \u001b[38;5;28;01mreturn\u001b[39;00m _compile(pattern, flags)\u001b[38;5;241m.\u001b[39msub(repl, string, count)\n",
      "\u001b[1;31mTypeError\u001b[0m: expected string or bytes-like object, got 'NoneType'"
     ]
    }
   ],
   "source": [
    "from tqdm import tqdm\n",
    "\n",
    "questionLoader = questions_data[785:1000]\n",
    "for question in  tqdm(questionLoader):\n",
    "    options = question['options']\n",
    "    for key, value in options.items():\n",
    "        query = value\n",
    "        bioc_data = []\n",
    "        abstracts_dict = fetch_and_process_data(query,access_key_id)\n",
    "        save_string_to_file(abstracts_dict, \"C:/Users/ranad/Documents/Pubmed_Abstract/\" + sanitize_filename(query) + \".json\")"
   ]
  },
  {
   "cell_type": "code",
   "execution_count": null,
   "id": "3e418be7",
   "metadata": {},
   "outputs": [],
   "source": []
  }
 ],
 "metadata": {
  "kernelspec": {
   "display_name": "Python 3 (ipykernel)",
   "language": "python",
   "name": "python3"
  },
  "language_info": {
   "codemirror_mode": {
    "name": "ipython",
    "version": 3
   },
   "file_extension": ".py",
   "mimetype": "text/x-python",
   "name": "python",
   "nbconvert_exporter": "python",
   "pygments_lexer": "ipython3",
   "version": "3.11.5"
  }
 },
 "nbformat": 4,
 "nbformat_minor": 5
}
